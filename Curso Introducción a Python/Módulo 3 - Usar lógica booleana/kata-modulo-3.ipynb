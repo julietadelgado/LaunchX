{
 "cells": [
  {
   "cell_type": "markdown",
   "metadata": {},
   "source": [
    "# Ejercicio 1 (Declaraciones if, else y elif)\n",
    "Programa 1: programa para imprimir una advertencia si un asteroide se acerca demasiado a la Tierra con cualquier velocidad superior a 25 Km/s"
   ]
  },
  {
   "cell_type": "code",
   "execution_count": 7,
   "metadata": {},
   "outputs": [
    {
     "name": "stdout",
     "output_type": "stream",
     "text": [
      "Advertencia: Todos los habitantes del planeta Tierra deben evacuar, un asteroide se acerca a gran velocidad\n"
     ]
    }
   ],
   "source": [
    "asteroid_velocity = 49\n",
    "\n",
    "if asteroid_velocity > 25:\n",
    "    print(\"Advertencia: Todos los habitantes del planeta Tierra deben evacuar, un asteroide se acerca a gran velocidad\")\n",
    "else:\n",
    "    print(\"Todo está bien\")"
   ]
  },
  {
   "cell_type": "markdown",
   "metadata": {},
   "source": [
    "Problema 2: programa para alertar a las personas de todo el mundo que deben buscar un asteroide en el cielo cuando la velocidad del asteroide sea mayor o igual a 20 Km/s"
   ]
  },
  {
   "cell_type": "code",
   "execution_count": 8,
   "metadata": {},
   "outputs": [
    {
     "name": "stdout",
     "output_type": "stream",
     "text": [
      "Tengan todos un excelente día\n"
     ]
    }
   ],
   "source": [
    "asteroid_velocity = 19\n",
    "\n",
    "if asteroid_velocity > 20:\n",
    "    print('Alerta! Todos los habitantes en la Tierra deben buscar un asteroide en el cielo')\n",
    "if asteroid_velocity == 20:\n",
    "    print('Alerta! Todos los habitantes en la Tierra deben buscar un asteroide en el cielo')\n",
    "else:\n",
    "    print('Tengan todos un excelente día')"
   ]
  },
  {
   "cell_type": "markdown",
   "metadata": {},
   "source": [
    "# Ejercicio 2 (operadores and y or)\n",
    "Programa 3: programa para mostrar advertencias a los habitantes según el tamaño y velocidad de un asteroide"
   ]
  },
  {
   "cell_type": "code",
   "execution_count": 9,
   "metadata": {},
   "outputs": [
    {
     "name": "stdout",
     "output_type": "stream",
     "text": [
      "Alerta! Todos los habitantes en la Tierra deben buscar un asteroide en el cielo\n"
     ]
    }
   ],
   "source": [
    "asteroid_velocity = 28\n",
    "asteroid_size = 15\n",
    "\n",
    "if asteroid_velocity > 25 and asteroid_size > 25:\n",
    "    print(\"Advertencia: Todos los habitantes del planeta Tierra deben evacuar, un asteroide se acerca a gran velocidad y causará grandes daños\")\n",
    "elif asteroid_velocity >= 20:\n",
    "        print('Alerta! Todos los habitantes en la Tierra deben buscar un asteroide en el cielo')\n",
    "elif asteroid_size < 25:\n",
    "        print('Todo bien')\n",
    "else:\n",
    "        print('Tengan todos un excelente día')"
   ]
  }
 ],
 "metadata": {
  "interpreter": {
   "hash": "41cf5fd1c287483d5dbb0768026f21d888bc38a195c78eab382416464852d82c"
  },
  "kernelspec": {
   "display_name": "Python 3.10.2 64-bit",
   "language": "python",
   "name": "python3"
  },
  "language_info": {
   "codemirror_mode": {
    "name": "ipython",
    "version": 3
   },
   "file_extension": ".py",
   "mimetype": "text/x-python",
   "name": "python",
   "nbconvert_exporter": "python",
   "pygments_lexer": "ipython3",
   "version": "3.10.2"
  },
  "orig_nbformat": 4
 },
 "nbformat": 4,
 "nbformat_minor": 2
}
