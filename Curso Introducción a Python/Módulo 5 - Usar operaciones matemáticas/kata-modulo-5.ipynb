{
 "cells": [
  {
   "cell_type": "markdown",
   "metadata": {},
   "source": [
    "# Distancia entre 2 planetas"
   ]
  },
  {
   "cell_type": "code",
   "execution_count": 1,
   "metadata": {},
   "outputs": [
    {
     "name": "stdout",
     "output_type": "stream",
     "text": [
      "628949330\n",
      "390810874.13143003\n"
     ]
    }
   ],
   "source": [
    "distance_planet_1 = 149597870\n",
    "distance_planet_2 = 778547200\n",
    "\n",
    "planets_distance = abs(distance_planet_1 - distance_planet_2)\n",
    "\n",
    "print(planets_distance)\n",
    "\n",
    "planets_distance_miles = planets_distance * 0.621371\n",
    "\n",
    "# Millas\n",
    "print(planets_distance_miles)"
   ]
  },
  {
   "cell_type": "markdown",
   "metadata": {},
   "source": [
    "# Convertir cadenas en números\n"
   ]
  },
  {
   "cell_type": "code",
   "execution_count": 2,
   "metadata": {},
   "outputs": [
    {
     "name": "stdout",
     "output_type": "stream",
     "text": [
      "4267200000\n",
      "2651514331.2\n"
     ]
    }
   ],
   "source": [
    "distance_planet_1 = int(input(\"¿Cuál es la distancia del primer planeta?\"))\n",
    "distance_planet_2 = int(input(\"¿Cuál es la distancia del segundo planeta?\"))\n",
    "\n",
    "# Realizar el cálculo y determinar el valor absoluto\n",
    "planets_distance = abs(distance_planet_1 - distance_planet_2)\n",
    "print(planets_distance)\n",
    "\n",
    "# Convertir de KM a Millas\n",
    "planets_distance_miles = planets_distance * 0.621371\n",
    "print(planets_distance_miles)"
   ]
  }
 ],
 "metadata": {
  "interpreter": {
   "hash": "41cf5fd1c287483d5dbb0768026f21d888bc38a195c78eab382416464852d82c"
  },
  "kernelspec": {
   "display_name": "Python 3.10.2 64-bit",
   "language": "python",
   "name": "python3"
  },
  "language_info": {
   "codemirror_mode": {
    "name": "ipython",
    "version": 3
   },
   "file_extension": ".py",
   "mimetype": "text/x-python",
   "name": "python",
   "nbconvert_exporter": "python",
   "pygments_lexer": "ipython3",
   "version": "3.10.2"
  },
  "orig_nbformat": 4
 },
 "nbformat": 4,
 "nbformat_minor": 2
}
