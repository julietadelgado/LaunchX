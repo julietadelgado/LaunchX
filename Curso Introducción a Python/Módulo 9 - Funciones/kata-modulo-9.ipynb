{
 "cells": [
  {
   "cell_type": "markdown",
   "metadata": {},
   "source": [
    "# Funciones en Python\n",
    "Ejercicio 1: Trabajar con argumentos en funciones"
   ]
  },
  {
   "cell_type": "code",
   "execution_count": 193,
   "metadata": {},
   "outputs": [
    {
     "name": "stdout",
     "output_type": "stream",
     "text": [
      "About tanks:\n",
      "Tank 1 has: 200000%\n",
      "Tank 2 has: 150000%\n",
      "Tank 3 has: 140000%\n",
      "The average is: 163333.33333333334%\n"
     ]
    }
   ],
   "source": [
    "# Funcion que lea 3 tanques de combustible y muestre el promedio el promedio\n",
    "def about_tanks(tanque1, tanque2, tanque3):\n",
    "    average = (tanque1 + tanque2 + tanque3) / 3\n",
    "    print(f\"About tanks:\")\n",
    "    print(f\"Tank 1 has: {tanque1}%\\nTank 2 has: {tanque2}%\\nTank 3 has: {tanque3}%\")\n",
    "    print(f\"The average is: {average}%\")\n",
    "\n",
    "about_tanks(200000,150000,140000)\n",
    "\n"
   ]
  },
  {
   "cell_type": "markdown",
   "metadata": {},
   "source": [
    "Cambiar la función para que el promedio se calcule aparte"
   ]
  },
  {
   "cell_type": "code",
   "execution_count": 194,
   "metadata": {},
   "outputs": [
    {
     "name": "stdout",
     "output_type": "stream",
     "text": [
      "About tanks:\n",
      "Tank 1 has: 200000%\n",
      "Tank 2 has: 150000%\n",
      "Tank 3 has: 140000%\n",
      "The average is: 163333.33333333334%\n"
     ]
    }
   ],
   "source": [
    "def average(*args):\n",
    "    avg = sum(args) / len(args)\n",
    "    #print(avg)\n",
    "    return avg\n",
    "\n",
    "#average(20,40,50)\n",
    "\n",
    "def about_tanks(tanque1, tanque2, tanque3):\n",
    "    avg = average(tanque1,tanque2,tanque3)\n",
    "    print(f\"About tanks:\")\n",
    "    print(f\"Tank 1 has: {tanque1}%\\nTank 2 has: {tanque2}%\\nTank 3 has: {tanque3}%\")\n",
    "    print(f\"The average is: {avg}%\")\n",
    "\n",
    "about_tanks(200000,150000,140000)"
   ]
  },
  {
   "cell_type": "markdown",
   "metadata": {},
   "source": [
    "Ejercicio 2: Argumentos de palabra clave para crear un informe de un cohete"
   ]
  },
  {
   "cell_type": "code",
   "execution_count": 195,
   "metadata": {},
   "outputs": [
    {
     "name": "stdout",
     "output_type": "stream",
     "text": [
      "\n",
      "    Pre launch Time: 24 minutes\n",
      "    Flight time: 72 minutes\n",
      "    Destination: Mars\n",
      "    External Tank: 200000 l\n",
      "    Internal Tank: 100000 l\n",
      "    \n"
     ]
    }
   ],
   "source": [
    "def about_mision(pre_launch_time, flight_time, destination, external_tank, internal_tank):\n",
    "    print(f\"\"\"\n",
    "    Pre launch Time: {pre_launch_time} minutes\n",
    "    Flight time: {flight_time} minutes\n",
    "    Destination: {destination}\n",
    "    External Tank: {external_tank} l\n",
    "    Internal Tank: {internal_tank} l\n",
    "    \"\"\")\n",
    "\n",
    "about_mision(24,72,'Mars',200000,100000)"
   ]
  },
  {
   "cell_type": "markdown",
   "metadata": {},
   "source": [
    "Redefinir funcion contemplando permitir la entrada de cualquier número de pasos basados en el tiempo y cualquier número de tanques"
   ]
  },
  {
   "cell_type": "code",
   "execution_count": 196,
   "metadata": {},
   "outputs": [
    {
     "name": "stdout",
     "output_type": "stream",
     "text": [
      "Mission to Mars\n",
      "Total travel time: 96 minutes\n",
      "Total fuel left: 300000 gallons\n"
     ]
    }
   ],
   "source": [
    "def about_mision(destination, *minutes, **fuel_reservoirs):\n",
    "    print(f\"\"\"Mission to {destination}\\nTotal travel time: {sum(minutes)} minutes\\nTotal fuel left: {sum(fuel_reservoirs.values())} gallons\"\"\") # uso values porque es como un diccionario y así sumo los valores de las claves\n",
    "\n",
    "about_mision('Mars',24,72, external_tank = 200000, main_tank = 100000)"
   ]
  },
  {
   "cell_type": "markdown",
   "metadata": {},
   "source": [
    "Redefinir función para mostrar el nombre de cada tanque"
   ]
  },
  {
   "cell_type": "code",
   "execution_count": 197,
   "metadata": {},
   "outputs": [
    {
     "name": "stdout",
     "output_type": "stream",
     "text": [
      "Mission to Mars\n",
      "Total travel time: 96 minutes\n",
      "Total fuel left: 400000 gallons\n",
      "external_tank has 200000 gallons\n",
      "main_tank has 100000 gallons\n",
      "other_tank has 100000 gallons\n"
     ]
    }
   ],
   "source": [
    "def about_mision(destination, *minutes, **fuel_reservoirs):\n",
    "    print(f\"\"\"Mission to {destination}\\nTotal travel time: {sum(minutes)} minutes\\nTotal fuel left: {sum(fuel_reservoirs.values())} gallons\"\"\") # uso values porque es como un diccionario y así sumo los valores de las claves\n",
    "\n",
    "    for tank_name, gallons in fuel_reservoirs.items():\n",
    "        print(f\"\"\"{tank_name} has {gallons} gallons\"\"\")\n",
    "\n",
    "report = about_mision('Mars',24,72, external_tank = 200000, main_tank = 100000, other_tank = 100000)"
   ]
  }
 ],
 "metadata": {
  "interpreter": {
   "hash": "41cf5fd1c287483d5dbb0768026f21d888bc38a195c78eab382416464852d82c"
  },
  "kernelspec": {
   "display_name": "Python 3.10.2 64-bit",
   "language": "python",
   "name": "python3"
  },
  "language_info": {
   "codemirror_mode": {
    "name": "ipython",
    "version": 3
   },
   "file_extension": ".py",
   "mimetype": "text/x-python",
   "name": "python",
   "nbconvert_exporter": "python",
   "pygments_lexer": "ipython3",
   "version": "3.10.2"
  },
  "orig_nbformat": 4
 },
 "nbformat": 4,
 "nbformat_minor": 2
}
